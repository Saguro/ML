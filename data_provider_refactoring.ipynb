{
 "cells": [
  {
   "cell_type": "code",
   "execution_count": 29,
   "metadata": {},
   "outputs": [],
   "source": [
    "from io import BytesIO, StringIO\n",
    "from pathlib import Path\n",
    "from zipfile import ZipFile\n",
    "\n",
    "import pandas as pd\n",
    "from PIL import Image\n",
    "\n",
    "def list_of_videos(file_name, data_zip_dir = './data'):\n",
    "    \n",
    "    _zip_file_path = Path(data_zip_dir) / file_name # zamień na ścieżkę \n",
    "    _list_of_videos = [i[17:-4] for i in ZipFile(_zip_file_path).namelist()\n",
    "                                    if i.startswith('data/annotations/') and i.endswith('csv')]\n",
    "    return _list_of_videos\n",
    "    \n",
    "def get_video(video_name: str, file_name, data_zip_dir = './data') -> pd.DataFrame:\n",
    "    \n",
    "    \"\"\"Function gets name of video file and returns dataframe with coordinates for hands and balls localization\"\"\"\n",
    "    \n",
    "    # assert allows to check if video_name is in our files\n",
    "    assert video_name in list_of_videos(file_name, data_zip_dir), f\"Video named '{video_name}' wasn't found in zip file '{_zip_file_path.name}'\"\n",
    "    \n",
    "    _zip_file_path = Path(data_zip_dir) / file_name\n",
    "    zip = ZipFile(_zip_file_path)\n",
    "    video_data = pd.read_csv(\n",
    "       StringIO(str(zip.open(f\"{'data/annotations/'}{video_name}.csv\").read(), 'utf-8')),\n",
    "       header=None,\n",
    "       names='file_name right_hand_x right_hand_y left_hand_x left_hand_y ball_1_x'\n",
    "             ' ball_1_y ball_2_x ball_2_y ball_3_x ball_3_y'.split()\n",
    "    )\n",
    "    video_data['photo'] = None\n",
    "    for i, photo_name in video_data['file_name'].iteritems():\n",
    "       video_data.loc[i, 'photo'] = Image.open(BytesIO(zip.open('data/frames/' + photo_name).read()))\n",
    "    return video_data\n"
   ]
  },
  {
   "cell_type": "code",
   "execution_count": 30,
   "metadata": {},
   "outputs": [],
   "source": [
    "\"\"\"Assertion tests usefull in refactoring\"\"\"\n",
    "\n",
    "result_list_of_videos = ['2-dark-mix-outside-wall','1-green-circus-blue-mat','3-dark-mix-stenkrossen-silverscreen','1-blue-red-circus-blue-chair','3-blue-outside-door1','3-j10-white-panels','2-j9-changing-room','3-blue-circus-big-doors','2-j12-armchair','3-mixed-j1-basement-shelf']\n",
    "assert list_of_videos(\"ballsandhands.zip\")[:10] == result_list_of_videos\n",
    "\n",
    "result_get_video = ['file_name','right_hand_x','right_hand_y','left_hand_x','left_hand_y','ball_1_x','ball_1_y','ball_2_x','ball_2_y','ball_3_x','ball_3_y','photo']\n",
    "assert list(get_video('1-apple-red-room-door', 'ballsandhands.zip')) == result_get_video\n"
   ]
  },
  {
   "cell_type": "code",
   "execution_count": null,
   "metadata": {},
   "outputs": [],
   "source": []
  }
 ],
 "metadata": {
  "kernelspec": {
   "display_name": "Python 3",
   "language": "python",
   "name": "python3"
  },
  "language_info": {
   "codemirror_mode": {
    "name": "ipython",
    "version": 3
   },
   "file_extension": ".py",
   "mimetype": "text/x-python",
   "name": "python",
   "nbconvert_exporter": "python",
   "pygments_lexer": "ipython3",
   "version": "3.7.1"
  }
 },
 "nbformat": 4,
 "nbformat_minor": 2
}
